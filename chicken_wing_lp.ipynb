{
 "cells": [
  {
   "cell_type": "code",
   "execution_count": 9,
   "metadata": {},
   "outputs": [],
   "source": [
    "import docplex.mp.model as cpx"
   ]
  },
  {
   "cell_type": "code",
   "execution_count": 10,
   "metadata": {},
   "outputs": [],
   "source": [
    "price_dict = {}\n",
    "price_dict[4] =  4.55\n",
    "price_dict[5] =  5.7\n",
    "price_dict[6] =  6.8\n",
    "price_dict[7] =  7.95\n",
    "price_dict[8] =  9.10\n",
    "price_dict[9] =  10.2\n",
    "price_dict[10] =  11.35\n",
    "price_dict[11] =  12.50\n",
    "price_dict[12] =  13.6\n",
    "price_dict[13] =  14.75\n",
    "price_dict[14] =  15.9\n",
    "price_dict[15] =  17.0\n",
    "price_dict[16] =  18.15\n",
    "price_dict[17] =  19.3\n",
    "price_dict[18] =  20.4\n",
    "price_dict[19] =  21.55\n",
    "price_dict[20] =  22.7\n",
    "price_dict[21] =  23.8\n",
    "price_dict[22] =  24.95\n",
    "price_dict[23] =  26.1\n",
    "price_dict[24] =  27.25\n",
    "price_dict[25] =  27.8\n",
    "price_dict[26] =  28.95\n",
    "price_dict[27] =  30.1\n",
    "price_dict[28] =  31.2\n",
    "price_dict[29] =  32.35\n",
    "price_dict[30] =  33.5\n",
    "price_dict[35] =  39.15\n",
    "price_dict[40] =  44.8\n",
    "price_dict[45] =  50.5\n",
    "price_dict[60] =  67.0\n",
    "price_dict[70] =  78.3\n",
    "price_dict[80] =  89.1\n",
    "price_dict[90] =  100.45\n",
    "price_dict[100] =  111.25\n",
    "price_dict[125] =  139.0\n",
    "price_dict[150] =  166.85\n",
    "price_dict[200] =  222.5"
   ]
  },
  {
   "cell_type": "code",
   "execution_count": 11,
   "metadata": {},
   "outputs": [],
   "source": [
    "var_names = [] * 200"
   ]
  },
  {
   "cell_type": "code",
   "execution_count": 12,
   "metadata": {},
   "outputs": [],
   "source": [
    "#define model\n",
    "mdl = cpx.Model(name=\"my_model\")"
   ]
  },
  {
   "cell_type": "code",
   "execution_count": 13,
   "metadata": {},
   "outputs": [],
   "source": [
    "#define decision variables"
   ]
  },
  {
   "cell_type": "code",
   "execution_count": 14,
   "metadata": {},
   "outputs": [],
   "source": [
    "for i in range(4,201):\n",
    "    if i in price_dict:\n",
    "        var_name = 'x{}'.format(i)\n",
    "        locals()[var_name] = mdl.integer_var(name = \"x{}\".format(i))"
   ]
  },
  {
   "cell_type": "code",
   "execution_count": 15,
   "metadata": {},
   "outputs": [
    {
     "name": "stdout",
     "output_type": "stream",
     "text": [
      "x150\n"
     ]
    }
   ],
   "source": [
    "print(x150)"
   ]
  },
  {
   "cell_type": "code",
   "execution_count": 16,
   "metadata": {},
   "outputs": [
    {
     "name": "stdout",
     "output_type": "stream",
     "text": [
      "4.55*x4 + 5.7*x5 + 6.8*x6 + 7.95*x7 + 9.1*x8 + 10.2*x9 + 11.35*x10 + 12.5*x11 + 13.6*x12 + 14.75*x13 + 15.9*x14 + 17.0*x15 + 18.15*x16 + 19.3*x17 + 20.4*x18 + 21.55*x19 + 22.7*x20 + 23.8*x21 + 24.95*x22 + 26.1*x23 + 27.25*x24 + 27.8*x25 + 28.95*x26 + 30.1*x27 + 31.2*x28 + 32.35*x29 + 33.5*x30 + 39.15*x35 + 44.8*x40 + 50.5*x45 + 67.0*x60 + 78.3*x70 + 89.1*x80 + 100.45*x90 + 111.25*x100 + 139.0*x125 + 166.85*x150 + 222.5*x200 \n"
     ]
    }
   ],
   "source": [
    "obj_string = \"\"\n",
    "for i in range(4,201):\n",
    "    if i in price_dict:\n",
    "        obj_string = obj_string + (\"{}*x{} + \".format(price_dict[i],i))\n",
    "obj_string = obj_string[:-2]\n",
    "print(obj_string)"
   ]
  },
  {
   "cell_type": "code",
   "execution_count": 17,
   "metadata": {},
   "outputs": [],
   "source": [
    "constraint_string_base = \"\"\n",
    "for i in range(4,201):\n",
    "    if i in price_dict:\n",
    "        constraint_string_base = constraint_string_base + (\"{}*x{} + \".format(i,i))\n",
    "constraint_string_base = constraint_string_base[:-2]"
   ]
  },
  {
   "cell_type": "code",
   "execution_count": 18,
   "metadata": {},
   "outputs": [
    {
     "name": "stdout",
     "output_type": "stream",
     "text": [
      "4*x4 + 5*x5 + 6*x6 + 7*x7 + 8*x8 + 9*x9 + 10*x10 + 11*x11 + 12*x12 + 13*x13 + 14*x14 + 15*x15 + 16*x16 + 17*x17 + 18*x18 + 19*x19 + 20*x20 + 21*x21 + 22*x22 + 23*x23 + 24*x24 + 25*x25 + 26*x26 + 27*x27 + 28*x28 + 29*x29 + 30*x30 + 35*x35 + 40*x40 + 45*x45 + 60*x60 + 70*x70 + 80*x80 + 90*x90 + 100*x100 + 125*x125 + 150*x150 + 200*x200 \n"
     ]
    }
   ],
   "source": [
    "print(constraint_string_base)"
   ]
  },
  {
   "cell_type": "code",
   "execution_count": 33,
   "metadata": {},
   "outputs": [
    {
     "name": "stdout",
     "output_type": "stream",
     "text": [
      "Wings: 4       Order: 4                              Total Cost: $4.55      \n",
      "Wings: 5       Order: 5                              Total Cost: $5.70      \n",
      "Wings: 6       Order: 6                              Total Cost: $6.80      \n",
      "Wings: 7       Order: 7                              Total Cost: $7.95      \n",
      "Wings: 8       Order: 4 4                            Total Cost: $9.10      \n",
      "Wings: 9       Order: 9                              Total Cost: $10.20     \n",
      "Wings: 10      Order: 10                             Total Cost: $11.35     \n",
      "Wings: 11      Order: 11                             Total Cost: $12.50     \n",
      "Wings: 12      Order: 6 6                            Total Cost: $13.60     \n",
      "Wings: 13      Order: 13                             Total Cost: $14.75     \n",
      "Wings: 14      Order: 14                             Total Cost: $15.90     \n",
      "Wings: 15      Order: 15                             Total Cost: $17.00     \n",
      "Wings: 16      Order: 7 9                            Total Cost: $18.15     \n",
      "Wings: 17      Order: 17                             Total Cost: $19.30     \n",
      "Wings: 18      Order: 9 9                            Total Cost: $20.40     \n",
      "Wings: 19      Order: 9 10                           Total Cost: $21.55     \n",
      "Wings: 20      Order: 10 10                          Total Cost: $22.70     \n",
      "Wings: 21      Order: 21                             Total Cost: $23.80     \n",
      "Wings: 22      Order: 7 15                           Total Cost: $24.95     \n",
      "Wings: 23      Order: 23                             Total Cost: $26.10     \n",
      "Wings: 24      Order: 6 6 6 6                        Total Cost: $27.20     \n",
      "Wings: 25      Order: 25                             Total Cost: $27.80     \n",
      "Wings: 26      Order: 26                             Total Cost: $28.95     \n",
      "Wings: 27      Order: 27                             Total Cost: $30.10     \n",
      "Wings: 28      Order: 28                             Total Cost: $31.20     \n",
      "Wings: 29      Order: 4 25                           Total Cost: $32.35     \n",
      "Wings: 30      Order: 30                             Total Cost: $33.50     \n",
      "Wings: 31      Order: 6 25                           Total Cost: $34.60     \n",
      "Wings: 32      Order: 7 25                           Total Cost: $35.75     \n",
      "Wings: 33      Order: 8 25                           Total Cost: $36.90     \n",
      "Wings: 34      Order: 6 28                           Total Cost: $38.00     \n",
      "Wings: 35      Order: 4 6 25                         Total Cost: $39.15     \n",
      "Wings: 36      Order: 5 6 25                         Total Cost: $40.30     \n",
      "Wings: 37      Order: 9 28                           Total Cost: $41.40     \n",
      "Wings: 38      Order: 6 7 25                         Total Cost: $42.55     \n",
      "Wings: 39      Order: 6 8 25                         Total Cost: $43.70     \n",
      "Wings: 40      Order: 6 9 25                         Total Cost: $44.80     \n",
      "Wings: 41      Order: 4 9 28                         Total Cost: $45.95     \n",
      "Wings: 42      Order: 16 26                          Total Cost: $47.10     \n",
      "Wings: 43      Order: 6 6 6 25                       Total Cost: $48.20     \n",
      "Wings: 44      Order: 6 6 6 26                       Total Cost: $49.35     \n",
      "Wings: 45      Order: 5 6 9 25                       Total Cost: $50.50     \n",
      "Wings: 46      Order: 6 40                           Total Cost: $51.60     \n",
      "Wings: 47      Order: 6 12 29                        Total Cost: $52.75     \n",
      "Wings: 48      Order: 4 4 40                         Total Cost: $53.90     \n",
      "Wings: 49      Order: 9 40                           Total Cost: $55.00     \n",
      "Wings: 50      Order: 25 25                          Total Cost: $55.60     \n",
      "Wings: 51      Order: 25 26                          Total Cost: $56.75     \n",
      "Wings: 52      Order: 26 26                          Total Cost: $57.90     \n",
      "Wings: 53      Order: 25 28                          Total Cost: $59.00     \n",
      "Wings: 54      Order: 26 28                          Total Cost: $60.15     \n",
      "Wings: 55      Order: 27 28                          Total Cost: $61.30     \n",
      "Wings: 56      Order: 28 28                          Total Cost: $62.40     \n",
      "Wings: 57      Order: 7 25 25                        Total Cost: $63.55     \n",
      "Wings: 58      Order: 8 25 25                        Total Cost: $64.70     \n",
      "Wings: 59      Order: 6 25 28                        Total Cost: $65.80     \n",
      "Wings: 60      Order: 10 25 25                       Total Cost: $66.95     \n",
      "Wings: 61      Order: 11 25 25                       Total Cost: $68.10     \n",
      "Wings: 62      Order: 6 28 28                        Total Cost: $69.20     \n",
      "Wings: 63      Order: 13 25 25                       Total Cost: $70.35     \n",
      "Wings: 64      Order: 7 7 25 25                      Total Cost: $71.50     \n",
      "Wings: 65      Order: 9 28 28                        Total Cost: $72.60     \n",
      "Wings: 66      Order: 6 7 25 28                      Total Cost: $73.75     \n",
      "Wings: 67      Order: 17 25 25                       Total Cost: $74.90     \n",
      "Wings: 68      Order: 6 6 28 28                      Total Cost: $76.00     \n",
      "Wings: 69      Order: 4 9 28 28                      Total Cost: $77.15     \n",
      "Wings: 70      Order: 5 9 28 28                      Total Cost: $78.30     \n",
      "Wings: 71      Order: 15 28 28                       Total Cost: $79.40     \n",
      "Wings: 72      Order: 7 25 40                        Total Cost: $80.55     \n",
      "Wings: 73      Order: 23 25 25                       Total Cost: $81.70     \n",
      "Wings: 74      Order: 18 28 28                       Total Cost: $82.80     \n",
      "Wings: 75      Order: 25 25 25                       Total Cost: $83.40     \n",
      "Wings: 76      Order: 25 25 26                       Total Cost: $84.55     \n",
      "Wings: 77      Order: 25 25 27                       Total Cost: $85.70     \n",
      "Wings: 78      Order: 25 25 28                       Total Cost: $86.80     \n",
      "Wings: 79      Order: 4 25 25 25                     Total Cost: $87.95     \n",
      "Wings: 80      Order: 25 27 28                       Total Cost: $89.10     \n",
      "Wings: 81      Order: 6 25 25 25                     Total Cost: $90.20     \n",
      "Wings: 82      Order: 26 28 28                       Total Cost: $91.35     \n",
      "Wings: 83      Order: 6 25 26 26                     Total Cost: $92.50     \n",
      "Wings: 84      Order: 28 28 28                       Total Cost: $93.60     \n",
      "Wings: 85      Order: 10 25 25 25                    Total Cost: $94.75     \n",
      "Wings: 86      Order: 5 25 28 28                     Total Cost: $95.90     \n",
      "Wings: 87      Order: 9 25 25 28                     Total Cost: $97.00     \n",
      "Wings: 88      Order: 9 25 26 28                     Total Cost: $98.15     \n",
      "Wings: 89      Order: 7 7 25 25 25                   Total Cost: $99.30     \n",
      "Wings: 90      Order: 25 25 40                       Total Cost: $100.40    \n",
      "Wings: 91      Order: 4 6 25 28 28                   Total Cost: $101.55    \n",
      "Wings: 92      Order: 5 12 25 25 25                  Total Cost: $102.70    \n",
      "Wings: 93      Order: 25 28 40                       Total Cost: $103.80    \n",
      "Wings: 94      Order: 26 28 40                       Total Cost: $104.95    \n",
      "Wings: 95      Order: 6 6 25 28 30                   Total Cost: $106.10    \n",
      "Wings: 96      Order: 12 28 28 28                    Total Cost: $107.20    \n",
      "Wings: 97      Order: 6 16 25 25 25                  Total Cost: $108.35    \n",
      "Wings: 98      Order: 4 26 28 40                     Total Cost: $109.50    \n",
      "Wings: 99      Order: 15 28 28 28                    Total Cost: $110.60    \n",
      "Wings: 100     Order: 25 25 25 25                    Total Cost: $111.20    \n",
      "Wings: 101     Order: 25 25 25 26                    Total Cost: $112.35    \n",
      "Wings: 102     Order: 25 25 25 27                    Total Cost: $113.50    \n",
      "Wings: 103     Order: 25 25 25 28                    Total Cost: $114.60    \n",
      "Wings: 104     Order: 4 25 25 25 25                  Total Cost: $115.75    \n",
      "Wings: 105     Order: 25 25 27 28                    Total Cost: $116.90    \n",
      "Wings: 106     Order: 6 25 25 25 25                  Total Cost: $118.00    \n",
      "Wings: 107     Order: 7 25 25 25 25                  Total Cost: $119.15    \n",
      "Wings: 108     Order: 4 4 25 25 25 25                Total Cost: $120.30    \n",
      "Wings: 109     Order: 6 25 25 25 28                  Total Cost: $121.40    \n"
     ]
    },
    {
     "name": "stdout",
     "output_type": "stream",
     "text": [
      "Wings: 110     Order: 4 6 25 25 25 25                Total Cost: $122.55    \n",
      "Wings: 111     Order: 11 25 25 25 25                 Total Cost: $123.70    \n",
      "Wings: 112     Order: 6 6 25 25 25 25                Total Cost: $124.80    \n",
      "Wings: 113     Order: 10 25 25 25 28                 Total Cost: $125.95    \n",
      "Wings: 114     Order: 4 10 25 25 25 25               Total Cost: $127.10    \n",
      "Wings: 115     Order: 6 25 28 28 28                  Total Cost: $128.20    \n",
      "Wings: 116     Order: 16 25 25 25 25                 Total Cost: $129.35    \n",
      "Wings: 117     Order: 6 6 25 25 26 29                Total Cost: $130.50    \n",
      "Wings: 118     Order: 6 12 25 25 25 25               Total Cost: $131.60    \n",
      "Wings: 119     Order: 6 6 7 25 25 25 25              Total Cost: $132.75    \n",
      "Wings: 120     Order: 20 25 25 25 25                 Total Cost: $133.90    \n",
      "Wings: 121     Order: 9 28 28 28 28                  Total Cost: $135.00    \n",
      "Wings: 122     Order: 10 28 28 28 28                 Total Cost: $136.15    \n",
      "Wings: 123     Order: 8 9 25 25 28 28                Total Cost: $137.30    \n",
      "Wings: 124     Order: 6 6 28 28 28 28                Total Cost: $138.40    \n",
      "Wings: 125     Order: 25 25 25 25 25                 Total Cost: $139.00    \n",
      "Wings: 126     Order: 25 25 25 25 26                 Total Cost: $140.15    \n",
      "Wings: 127     Order: 25 25 25 25 27                 Total Cost: $141.30    \n",
      "Wings: 128     Order: 25 25 25 25 28                 Total Cost: $142.40    \n",
      "Wings: 129     Order: 4 25 25 25 25 25               Total Cost: $143.55    \n",
      "Wings: 130     Order: 25 25 26 26 28                 Total Cost: $144.70    \n",
      "Wings: 131     Order: 6 25 25 25 25 25               Total Cost: $145.80    \n",
      "Wings: 132     Order: 6 25 25 25 25 26               Total Cost: $146.95    \n",
      "Wings: 133     Order: 8 25 25 25 25 25               Total Cost: $148.10    \n",
      "Wings: 134     Order: 6 25 25 25 25 28               Total Cost: $149.20    \n",
      "Wings: 135     Order: 6 25 25 25 26 28               Total Cost: $150.35    \n",
      "Wings: 136     Order: 5 6 125                        Total Cost: $151.50    \n",
      "Wings: 137     Order: 12 25 25 25 25 25              Total Cost: $152.60    \n",
      "Wings: 138     Order: 4 25 25 28 28 28               Total Cost: $153.75    \n",
      "Wings: 139     Order: 7 7 25 25 25 25 25             Total Cost: $154.90    \n",
      "Wings: 140     Order: 6 9 25 25 25 25 25             Total Cost: $156.00    \n",
      "Wings: 141     Order: 6 7 25 25 25 25 28             Total Cost: $157.15    \n",
      "Wings: 142     Order: 6 6 25 25 25 25 30             Total Cost: $158.30    \n",
      "Wings: 143     Order: 6 6 6 25 25 25 25 25           Total Cost: $159.40    \n",
      "Wings: 144     Order: 19 25 25 25 25 25              Total Cost: $160.55    \n",
      "Wings: 145     Order: 10 10 25 25 25 25 25           Total Cost: $161.70    \n",
      "Wings: 146     Order: 6 25 25 25 25 40               Total Cost: $162.80    \n",
      "Wings: 147     Order: 7 15 25 25 25 25 25            Total Cost: $163.95    \n",
      "Wings: 148     Order: 8 25 25 25 25 40               Total Cost: $165.10    \n",
      "Wings: 149     Order: 6 6 6 6 25 25 25 25 25         Total Cost: $166.20    \n",
      "Wings: 150     Order: 25 25 25 25 25 25              Total Cost: $166.80    \n",
      "Wings: 151     Order: 25 25 25 25 25 26              Total Cost: $167.95    \n",
      "Wings: 152     Order: 25 25 25 25 26 26              Total Cost: $169.10    \n",
      "Wings: 153     Order: 25 25 25 25 25 28              Total Cost: $170.20    \n",
      "Wings: 154     Order: 25 25 25 25 26 28              Total Cost: $171.35    \n",
      "Wings: 155     Order: 25 25 25 26 26 28              Total Cost: $172.50    \n",
      "Wings: 156     Order: 6 25 25 25 25 25 25            Total Cost: $173.60    \n",
      "Wings: 157     Order: 7 25 25 25 25 25 25            Total Cost: $174.75    \n",
      "Wings: 158     Order: 6 25 25 25 25 26 26            Total Cost: $175.90    \n",
      "Wings: 159     Order: 6 25 25 25 25 25 28            Total Cost: $177.00    \n",
      "Wings: 160     Order: 6 25 25 25 25 26 28            Total Cost: $178.15    \n",
      "Wings: 161     Order: 9 25 25 25 25 26 26            Total Cost: $179.30    \n",
      "Wings: 162     Order: 12 25 25 25 25 25 25           Total Cost: $180.40    \n",
      "Wings: 163     Order: 6 7 25 25 25 25 25 25          Total Cost: $181.55    \n",
      "Wings: 164     Order: 9 25 25 25 26 26 28            Total Cost: $182.70    \n",
      "Wings: 165     Order: 6 9 25 25 25 25 25 25          Total Cost: $183.80    \n",
      "Wings: 166     Order: 6 9 26 125                     Total Cost: $184.95    \n",
      "Wings: 167     Order: 17 25 25 25 25 25 25           Total Cost: $186.10    \n",
      "Wings: 168     Order: 6 6 6 25 25 25 25 25 25        Total Cost: $187.20    \n",
      "Wings: 169     Order: 6 6 6 25 25 25 25 25 26        Total Cost: $188.35    \n",
      "Wings: 170     Order: 9 10 26 125                    Total Cost: $189.50    \n",
      "Wings: 171     Order: 21 25 25 25 25 25 25           Total Cost: $190.60    \n",
      "Wings: 172     Order: 7 15 25 25 25 25 25 25         Total Cost: $191.75    \n",
      "Wings: 173     Order: 4 9 9 26 125                   Total Cost: $192.90    \n",
      "Wings: 174     Order: 9 15 25 25 25 25 25 25         Total Cost: $194.00    \n",
      "Wings: 175     Order: 25 25 25 25 25 25 25           Total Cost: $194.60    \n",
      "Wings: 176     Order: 25 25 25 25 25 25 26           Total Cost: $195.75    \n",
      "Wings: 177     Order: 25 25 25 25 25 26 26           Total Cost: $196.90    \n",
      "Wings: 178     Order: 25 25 25 25 25 25 28           Total Cost: $198.00    \n",
      "Wings: 179     Order: 25 25 25 25 25 26 28           Total Cost: $199.15    \n",
      "Wings: 180     Order: 25 25 25 25 26 26 28           Total Cost: $200.30    \n",
      "Wings: 181     Order: 6 25 25 25 25 25 25 25         Total Cost: $201.40    \n",
      "Wings: 182     Order: 7 25 25 25 25 25 25 25         Total Cost: $202.55    \n",
      "Wings: 183     Order: 6 25 25 25 25 25 26 26         Total Cost: $203.70    \n",
      "Wings: 184     Order: 6 25 25 25 25 25 25 28         Total Cost: $204.80    \n",
      "Wings: 185     Order: 6 25 25 25 25 25 26 28         Total Cost: $205.95    \n",
      "Wings: 186     Order: 4 7 25 25 125                  Total Cost: $207.10    \n",
      "Wings: 187     Order: 12 25 25 25 25 25 25 25        Total Cost: $208.20    \n",
      "Wings: 188     Order: 6 7 25 25 125                  Total Cost: $209.35    \n",
      "Wings: 189     Order: 6 28 30 125                    Total Cost: $210.50    \n",
      "Wings: 190     Order: 6 9 25 25 25 25 25 25 25       Total Cost: $211.60    \n",
      "Wings: 191     Order: 4 12 25 25 25 25 25 25 25      Total Cost: $212.75    \n",
      "Wings: 192     Order: 17 25 25 25 25 25 25 25        Total Cost: $213.90    \n",
      "Wings: 193     Order: 6 6 6 25 25 25 25 25 25 25     Total Cost: $215.00    \n",
      "Wings: 194     Order: 6 6 6 25 26 125                Total Cost: $216.15    \n",
      "Wings: 195     Order: 5 6 9 25 25 25 25 25 25 25     Total Cost: $217.30    \n",
      "Wings: 196     Order: 21 25 25 25 25 25 25 25        Total Cost: $218.40    \n",
      "Wings: 197     Order: 7 15 25 25 25 25 25 25 25      Total Cost: $219.55    \n",
      "Wings: 198     Order: 4 6 12 25 26 125               Total Cost: $220.70    \n",
      "Wings: 199     Order: 6 6 6 6 25 25 25 25 25 25 25   Total Cost: $221.80    \n",
      "Wings: 200     Order: 25 25 25 25 25 25 25 25        Total Cost: $222.40    \n"
     ]
    }
   ],
   "source": [
    "for i in range(4,201):\n",
    "    output_string = \"Wings: {:<7}\".format(i)\n",
    "    mdl = cpx.Model(name=\"my_model\")\n",
    "    for j in range(4,201):\n",
    "        if j in price_dict:\n",
    "            var_name = 'x{}'.format(j)\n",
    "            locals()[var_name] = mdl.integer_var(name = \"x{}\".format(j))\n",
    "    \n",
    "    mdl.minimize(eval(obj_string))\n",
    "    constraint_string = constraint_string_base + \" == {}\".format(i)\n",
    "    mdl.add_constraint(eval(constraint_string))\n",
    "    s = mdl.solve()\n",
    "    \n",
    "    output_string = output_string + \" Order: \"\n",
    "    \n",
    "    order_string = \"\"\n",
    "    for j in range(4,201):\n",
    "        if j in price_dict:\n",
    "            num_times = int(s.get_value(eval('x{}'.format(j))))\n",
    "            for k in range(num_times):\n",
    "                order_string = order_string + \"{} \".format(j)\n",
    "            \n",
    "    \n",
    "    output_string = output_string + \"{:<30}\".format(order_string)\n",
    "    output_string = output_string + \" Total Cost: ${:<10.2f}\".format(round(s.get_objective_value(),2))\n",
    "    print(output_string)"
   ]
  },
  {
   "cell_type": "code",
   "execution_count": 30,
   "metadata": {},
   "outputs": [
    {
     "data": {
      "text/plain": [
       "0"
      ]
     },
     "execution_count": 30,
     "metadata": {},
     "output_type": "execute_result"
    }
   ],
   "source": [
    "s.get_value(x4)"
   ]
  }
 ],
 "metadata": {
  "kernelspec": {
   "display_name": "Python 3",
   "language": "python",
   "name": "python3"
  },
  "language_info": {
   "codemirror_mode": {
    "name": "ipython",
    "version": 3
   },
   "file_extension": ".py",
   "mimetype": "text/x-python",
   "name": "python",
   "nbconvert_exporter": "python",
   "pygments_lexer": "ipython3",
   "version": "3.7.6"
  }
 },
 "nbformat": 4,
 "nbformat_minor": 4
}
